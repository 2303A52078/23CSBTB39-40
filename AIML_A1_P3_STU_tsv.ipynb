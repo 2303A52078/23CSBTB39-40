{
  "nbformat": 4,
  "nbformat_minor": 0,
  "metadata": {
    "colab": {
      "provenance": [],
      "authorship_tag": "ABX9TyNdGPoycwunGx7D5bgETgH3",
      "include_colab_link": true
    },
    "kernelspec": {
      "name": "python3",
      "display_name": "Python 3"
    },
    "language_info": {
      "name": "python"
    }
  },
  "cells": [
    {
      "cell_type": "markdown",
      "metadata": {
        "id": "view-in-github",
        "colab_type": "text"
      },
      "source": [
        "<a href=\"https://colab.research.google.com/github/2303A52078/23CSBTB39-40/blob/main/AIML_A1_P3_STU_tsv.ipynb\" target=\"_parent\"><img src=\"https://colab.research.google.com/assets/colab-badge.svg\" alt=\"Open In Colab\"/></a>"
      ]
    },
    {
      "cell_type": "code",
      "execution_count": 10,
      "metadata": {
        "colab": {
          "base_uri": "https://localhost:8080/"
        },
        "id": "VIYvB8ODQWoV",
        "outputId": "74a92c7d-4455-4b5e-c995-210c713fa0c8"
      },
      "outputs": [
        {
          "output_type": "stream",
          "name": "stdout",
          "text": [
            "    STUDENT ID STUDENT NAME COURESE   CONTACT NO\n",
            "0         2110          WEF    AIML   1234567890\n",
            "1         2111          SDF    AIML   1234567890\n",
            "2         2112          WRE    AIML   1234567890\n",
            "3         2113          HFG    AIML   1234567890\n",
            "4         2114          REW    AIML   1234567890\n",
            "5         2115          FDG    AIML   1234567890\n",
            "6         2116          ERT    AIML   1234567890\n",
            "7         2117          MHG    AIML   1234567890\n",
            "8         2118          QER    AIML   1234567890\n",
            "9         2119          HJN    AIML   1234567890\n",
            "10        2120          XFD    AIML   1234567890\n"
          ]
        }
      ],
      "source": [
        "import pandas as pd\n",
        "df=pd.read_table(\"STU.tsv\")\n",
        "print(df)"
      ]
    }
  ]
}