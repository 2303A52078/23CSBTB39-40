{
  "nbformat": 4,
  "nbformat_minor": 0,
  "metadata": {
    "colab": {
      "provenance": [],
      "authorship_tag": "ABX9TyOEiIfLhbIDFMl20QanwLtC",
      "include_colab_link": true
    },
    "kernelspec": {
      "name": "python3",
      "display_name": "Python 3"
    },
    "language_info": {
      "name": "python"
    }
  },
  "cells": [
    {
      "cell_type": "markdown",
      "metadata": {
        "id": "view-in-github",
        "colab_type": "text"
      },
      "source": [
        "<a href=\"https://colab.research.google.com/github/2303A52078/23CSBTB39-40/blob/main/AIML_A4_P2.ipynb\" target=\"_parent\"><img src=\"https://colab.research.google.com/assets/colab-badge.svg\" alt=\"Open In Colab\"/></a>"
      ]
    },
    {
      "cell_type": "code",
      "execution_count": 1,
      "metadata": {
        "colab": {
          "base_uri": "https://localhost:8080/"
        },
        "id": "lRm9oNOCRVwx",
        "outputId": "2da6a664-c4b0-451c-c528-1ba18b4a7819"
      },
      "outputs": [
        {
          "output_type": "stream",
          "name": "stdout",
          "text": [
            "Intercept: 0.05004264379256851\n",
            "Slope: 3.058481269522292\n",
            "CDF of the predictions: [0.74068836 0.07444085 0.89114254 0.20352668 0.49493951 0.10553853\n",
            " 0.88104736 0.79065811 0.40842185 0.8472371  0.59458864 0.93285039\n",
            " 0.36017529 0.07250158 0.92473809 0.07030862 0.15522883 0.31578671\n",
            " 0.41596358 0.75687321]\n"
          ]
        }
      ],
      "source": [
        "import numpy as np\n",
        "from sklearn.model_selection import train_test_split\n",
        "X = np.random.rand(100, 1)\n",
        "Y = 3 * X.squeeze() + np.random.randn(100)\n",
        "\n",
        "X_train, X_test, Y_train, Y_test = train_test_split(X, Y, test_size=0.2, random_state=42)\n",
        "from sklearn.linear_model import LinearRegression\n",
        "\n",
        "model = LinearRegression()\n",
        "model.fit(X_train, Y_train)\n",
        "import scipy.stats as stats\n",
        "intercept = model.intercept_\n",
        "slope = model.coef_[0]\n",
        "Y_pred = model.predict(X_test)\n",
        "cdf_values = stats.norm.cdf(Y_pred, np.mean(Y_pred), np.std(Y_pred))\n",
        "print(f\"Intercept: {intercept}\")\n",
        "print(f\"Slope: {slope}\")\n",
        "print(f\"CDF of the predictions: {cdf_values}\")"
      ]
    }
  ]
}