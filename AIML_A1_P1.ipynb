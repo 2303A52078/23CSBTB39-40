{
  "nbformat": 4,
  "nbformat_minor": 0,
  "metadata": {
    "colab": {
      "provenance": [],
      "authorship_tag": "ABX9TyNHv4XQXrm4j0wnMIMgb5xJ",
      "include_colab_link": true
    },
    "kernelspec": {
      "name": "python3",
      "display_name": "Python 3"
    },
    "language_info": {
      "name": "python"
    }
  },
  "cells": [
    {
      "cell_type": "markdown",
      "metadata": {
        "id": "view-in-github",
        "colab_type": "text"
      },
      "source": [
        "<a href=\"https://colab.research.google.com/github/2303A52078/23CSBTB39-40/blob/main/AIML_A1_P1.ipynb\" target=\"_parent\"><img src=\"https://colab.research.google.com/assets/colab-badge.svg\" alt=\"Open In Colab\"/></a>"
      ]
    },
    {
      "cell_type": "code",
      "execution_count": null,
      "metadata": {
        "colab": {
          "base_uri": "https://localhost:8080/"
        },
        "id": "UQmGfq5ZANx2",
        "outputId": "542eb045-18da-4e10-d2e5-cc6ddca2f4ee"
      },
      "outputs": [
        {
          "output_type": "stream",
          "name": "stdout",
          "text": [
            "[0, 5, 2, 1]\n",
            "[2, 8, 9, 6]\n",
            "<class 'list'>\n",
            "<class 'list'>\n"
          ]
        }
      ],
      "source": [
        "list1=[0,5,2,1]\n",
        "list2=[2,8,9,6]\n",
        "print(list1)\n",
        "print(list2)\n",
        "print(type(list1))\n",
        "print(type(list2))"
      ]
    },
    {
      "cell_type": "code",
      "source": [
        "# Import necessary libraries\n",
        "import numpy as np\n",
        "import pandas as pd\n",
        "\n",
        "# Create lists\n",
        "list1 = [1, 2, 3, 4]\n",
        "list2 = [5, 6, 7, 8]\n",
        "\n",
        "# Identify their type\n",
        "print(\"Type of list1:\", type(list1))\n",
        "print(\"Type of list2:\", type(list2))"
      ],
      "metadata": {
        "id": "HG8ytq5yCjlN",
        "colab": {
          "base_uri": "https://localhost:8080/"
        },
        "outputId": "e218876a-3541-4102-bf93-9cf90a667901"
      },
      "execution_count": 4,
      "outputs": [
        {
          "output_type": "stream",
          "name": "stdout",
          "text": [
            "Type of list1: <class 'list'>\n",
            "Type of list2: <class 'list'>\n"
          ]
        }
      ]
    },
    {
      "cell_type": "code",
      "source": [
        "# Perform operations\n",
        "multiplication = array1 * array2\n",
        "division = array1 / array2\n",
        "poweroff = np.power(array1, 2)  # Square each element of array1\n",
        "\n",
        "# Print results\n",
        "print(\"Multiplication:\\n\", multiplication)\n",
        "print(\"Division:\\n\", division)\n",
        "print(\"Power of 2:\\n\", poweroff)"
      ],
      "metadata": {
        "colab": {
          "base_uri": "https://localhost:8080/"
        },
        "id": "Gz1uDOt6D5LA",
        "outputId": "3936dd51-fb63-4242-a75f-e33ed718d633"
      },
      "execution_count": 5,
      "outputs": [
        {
          "output_type": "stream",
          "name": "stdout",
          "text": [
            "Multiplication:\n",
            " [ 0 40 18  6]\n",
            "Division:\n",
            " [0.         0.625      0.22222222 0.16666667]\n",
            "Power of 2:\n",
            " [ 0 25  4  1]\n"
          ]
        }
      ]
    },
    {
      "cell_type": "code",
      "source": [
        "# Create a textual output\n",
        "textual_output = f\"Addition of Two:\\n{array1} + {array2} = {array1 + array2}\"\n",
        "\n",
        "# Print the textual output\n",
        "print(textual_output)"
      ],
      "metadata": {
        "colab": {
          "base_uri": "https://localhost:8080/"
        },
        "id": "sqQyP9SSFe8R",
        "outputId": "a36ff80d-8132-4e79-a790-a79cc5b577d2"
      },
      "execution_count": 6,
      "outputs": [
        {
          "output_type": "stream",
          "name": "stdout",
          "text": [
            "Addition of Two:\n",
            "[0 5 2 1] + [2 8 9 6] = [ 2 13 11  7]\n"
          ]
        }
      ]
    },
    {
      "cell_type": "code",
      "source": [
        "# Apply NumPy mathematical functions\n",
        "sin_values = np.sin(array1)\n",
        "log_values = np.log(array1)       # Natural logarithm\n",
        "log2_values = np.log2(array1)     # Base-2 logarithm\n",
        "exp_values = np.exp(array1)       # Exponential\n",
        "\n",
        "# Print results\n",
        "print(\"Sin values:\\n\", sin_values)\n",
        "print(\"Log values:\\n\", log_values)\n",
        "print(\"Log2 values:\\n\", log2_values)\n",
        "print(\"Exp values:\\n\", exp_values)"
      ],
      "metadata": {
        "colab": {
          "base_uri": "https://localhost:8080/"
        },
        "id": "Wxdorzi5Fhwo",
        "outputId": "b523a7ff-47cc-497d-f7e9-c01a8589be02"
      },
      "execution_count": 7,
      "outputs": [
        {
          "output_type": "stream",
          "name": "stdout",
          "text": [
            "Sin values:\n",
            " [ 0.         -0.95892427  0.90929743  0.84147098]\n",
            "Log values:\n",
            " [      -inf 1.60943791 0.69314718 0.        ]\n",
            "Log2 values:\n",
            " [      -inf 2.32192809 1.         0.        ]\n",
            "Exp values:\n",
            " [  1.         148.4131591    7.3890561    2.71828183]\n"
          ]
        },
        {
          "output_type": "stream",
          "name": "stderr",
          "text": [
            "<ipython-input-7-2d7831bd5d2b>:3: RuntimeWarning: divide by zero encountered in log\n",
            "  log_values = np.log(array1)       # Natural logarithm\n",
            "<ipython-input-7-2d7831bd5d2b>:4: RuntimeWarning: divide by zero encountered in log2\n",
            "  log2_values = np.log2(array1)     # Base-2 logarithm\n"
          ]
        }
      ]
    }
  ]
}